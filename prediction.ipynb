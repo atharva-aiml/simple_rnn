{
 "cells": [
  {
   "cell_type": "code",
   "execution_count": 11,
   "id": "8d34251e",
   "metadata": {},
   "outputs": [],
   "source": [
    "import numpy as np\n",
    "import tensorflow as tf\n",
    "from tensorflow.keras.datasets import imdb\n",
    "from tensorflow.keras.preprocessing import sequence\n",
    "from tensorflow.keras.models import load_model"
   ]
  },
  {
   "cell_type": "code",
   "execution_count": 12,
   "id": "98ca448f",
   "metadata": {},
   "outputs": [],
   "source": [
    "## Load the imdb dataset word index\n",
    "\n",
    "word_index = imdb.get_word_index()\n",
    "reverse_word_index = {value: key for key, value in word_index.items()}"
   ]
  },
  {
   "cell_type": "code",
   "execution_count": 13,
   "id": "d2e26e8b",
   "metadata": {},
   "outputs": [
    {
     "name": "stderr",
     "output_type": "stream",
     "text": [
      "WARNING:absl:Compiled the loaded model, but the compiled metrics have yet to be built. `model.compile_metrics` will be empty until you train or evaluate the model.\n"
     ]
    },
    {
     "data": {
      "text/html": [
       "<pre style=\"white-space:pre;overflow-x:auto;line-height:normal;font-family:Menlo,'DejaVu Sans Mono',consolas,'Courier New',monospace\"><span style=\"font-weight: bold\">Model: \"sequential\"</span>\n",
       "</pre>\n"
      ],
      "text/plain": [
       "\u001b[1mModel: \"sequential\"\u001b[0m\n"
      ]
     },
     "metadata": {},
     "output_type": "display_data"
    },
    {
     "data": {
      "text/html": [
       "<pre style=\"white-space:pre;overflow-x:auto;line-height:normal;font-family:Menlo,'DejaVu Sans Mono',consolas,'Courier New',monospace\">┏━━━━━━━━━━━━━━━━━━━━━━━━━━━━━━━━━┳━━━━━━━━━━━━━━━━━━━━━━━━┳━━━━━━━━━━━━━━━┓\n",
       "┃<span style=\"font-weight: bold\"> Layer (type)                    </span>┃<span style=\"font-weight: bold\"> Output Shape           </span>┃<span style=\"font-weight: bold\">       Param # </span>┃\n",
       "┡━━━━━━━━━━━━━━━━━━━━━━━━━━━━━━━━━╇━━━━━━━━━━━━━━━━━━━━━━━━╇━━━━━━━━━━━━━━━┩\n",
       "│ embedding (<span style=\"color: #0087ff; text-decoration-color: #0087ff\">Embedding</span>)           │ (<span style=\"color: #00d7ff; text-decoration-color: #00d7ff\">None</span>, <span style=\"color: #00af00; text-decoration-color: #00af00\">500</span>, <span style=\"color: #00af00; text-decoration-color: #00af00\">128</span>)       │     <span style=\"color: #00af00; text-decoration-color: #00af00\">1,280,000</span> │\n",
       "├─────────────────────────────────┼────────────────────────┼───────────────┤\n",
       "│ simple_rnn (<span style=\"color: #0087ff; text-decoration-color: #0087ff\">SimpleRNN</span>)          │ (<span style=\"color: #00d7ff; text-decoration-color: #00d7ff\">None</span>, <span style=\"color: #00af00; text-decoration-color: #00af00\">128</span>)            │        <span style=\"color: #00af00; text-decoration-color: #00af00\">32,896</span> │\n",
       "├─────────────────────────────────┼────────────────────────┼───────────────┤\n",
       "│ dense (<span style=\"color: #0087ff; text-decoration-color: #0087ff\">Dense</span>)                   │ (<span style=\"color: #00d7ff; text-decoration-color: #00d7ff\">None</span>, <span style=\"color: #00af00; text-decoration-color: #00af00\">1</span>)              │           <span style=\"color: #00af00; text-decoration-color: #00af00\">129</span> │\n",
       "└─────────────────────────────────┴────────────────────────┴───────────────┘\n",
       "</pre>\n"
      ],
      "text/plain": [
       "┏━━━━━━━━━━━━━━━━━━━━━━━━━━━━━━━━━┳━━━━━━━━━━━━━━━━━━━━━━━━┳━━━━━━━━━━━━━━━┓\n",
       "┃\u001b[1m \u001b[0m\u001b[1mLayer (type)                   \u001b[0m\u001b[1m \u001b[0m┃\u001b[1m \u001b[0m\u001b[1mOutput Shape          \u001b[0m\u001b[1m \u001b[0m┃\u001b[1m \u001b[0m\u001b[1m      Param #\u001b[0m\u001b[1m \u001b[0m┃\n",
       "┡━━━━━━━━━━━━━━━━━━━━━━━━━━━━━━━━━╇━━━━━━━━━━━━━━━━━━━━━━━━╇━━━━━━━━━━━━━━━┩\n",
       "│ embedding (\u001b[38;5;33mEmbedding\u001b[0m)           │ (\u001b[38;5;45mNone\u001b[0m, \u001b[38;5;34m500\u001b[0m, \u001b[38;5;34m128\u001b[0m)       │     \u001b[38;5;34m1,280,000\u001b[0m │\n",
       "├─────────────────────────────────┼────────────────────────┼───────────────┤\n",
       "│ simple_rnn (\u001b[38;5;33mSimpleRNN\u001b[0m)          │ (\u001b[38;5;45mNone\u001b[0m, \u001b[38;5;34m128\u001b[0m)            │        \u001b[38;5;34m32,896\u001b[0m │\n",
       "├─────────────────────────────────┼────────────────────────┼───────────────┤\n",
       "│ dense (\u001b[38;5;33mDense\u001b[0m)                   │ (\u001b[38;5;45mNone\u001b[0m, \u001b[38;5;34m1\u001b[0m)              │           \u001b[38;5;34m129\u001b[0m │\n",
       "└─────────────────────────────────┴────────────────────────┴───────────────┘\n"
      ]
     },
     "metadata": {},
     "output_type": "display_data"
    },
    {
     "data": {
      "text/html": [
       "<pre style=\"white-space:pre;overflow-x:auto;line-height:normal;font-family:Menlo,'DejaVu Sans Mono',consolas,'Courier New',monospace\"><span style=\"font-weight: bold\"> Total params: </span><span style=\"color: #00af00; text-decoration-color: #00af00\">1,313,025</span> (5.01 MB)\n",
       "</pre>\n"
      ],
      "text/plain": [
       "\u001b[1m Total params: \u001b[0m\u001b[38;5;34m1,313,025\u001b[0m (5.01 MB)\n"
      ]
     },
     "metadata": {},
     "output_type": "display_data"
    },
    {
     "data": {
      "text/html": [
       "<pre style=\"white-space:pre;overflow-x:auto;line-height:normal;font-family:Menlo,'DejaVu Sans Mono',consolas,'Courier New',monospace\"><span style=\"font-weight: bold\"> Trainable params: </span><span style=\"color: #00af00; text-decoration-color: #00af00\">1,313,025</span> (5.01 MB)\n",
       "</pre>\n"
      ],
      "text/plain": [
       "\u001b[1m Trainable params: \u001b[0m\u001b[38;5;34m1,313,025\u001b[0m (5.01 MB)\n"
      ]
     },
     "metadata": {},
     "output_type": "display_data"
    },
    {
     "data": {
      "text/html": [
       "<pre style=\"white-space:pre;overflow-x:auto;line-height:normal;font-family:Menlo,'DejaVu Sans Mono',consolas,'Courier New',monospace\"><span style=\"font-weight: bold\"> Non-trainable params: </span><span style=\"color: #00af00; text-decoration-color: #00af00\">0</span> (0.00 B)\n",
       "</pre>\n"
      ],
      "text/plain": [
       "\u001b[1m Non-trainable params: \u001b[0m\u001b[38;5;34m0\u001b[0m (0.00 B)\n"
      ]
     },
     "metadata": {},
     "output_type": "display_data"
    }
   ],
   "source": [
    "# Load the pre-trained model with ReLU activation\n",
    "\n",
    "model = load_model('Simple_rnn_imdb.h5')\n",
    "model.compile(optimizer='adam', loss='binary_crossentropy', metrics=['accuracy'])\n",
    "model.summary()"
   ]
  },
  {
   "cell_type": "code",
   "execution_count": 14,
   "metadata": {},
   "outputs": [
    {
     "data": {
      "text/plain": [
       "[array([[ 2.7567619e-01,  3.7834376e-01,  8.0537826e-01, ...,\n",
       "         -2.0311539e-01, -2.5332221e-01, -2.7349275e-01],\n",
       "        [ 3.4734942e-02,  1.1802245e-01,  1.7347965e-02, ...,\n",
       "         -3.0077633e-04, -3.1999063e-02, -1.2028045e-01],\n",
       "        [-9.6163817e-02, -5.2623883e-02,  1.2087180e-02, ...,\n",
       "          1.0999306e-02,  5.9396159e-02, -4.4121325e-02],\n",
       "        ...,\n",
       "        [-4.5557927e-02, -8.7039024e-02,  2.7351573e-02, ...,\n",
       "         -8.9571342e-02, -5.2307785e-02,  8.2658023e-02],\n",
       "        [-9.9165581e-02,  8.0704600e-02, -6.5805599e-02, ...,\n",
       "          3.5300322e-02, -4.0482592e-02,  4.6602771e-02],\n",
       "        [ 5.2672992e-03, -5.7422981e-02, -1.8152785e-01, ...,\n",
       "         -7.8445487e-02, -8.4794365e-02,  7.1334071e-02]], dtype=float32),\n",
       " array([[-0.01320327, -0.0425518 ,  0.04002448, ..., -0.03057784,\n",
       "          0.05380711,  0.013091  ],\n",
       "        [-0.01809673,  0.08801669,  0.05396733, ...,  0.02347291,\n",
       "         -0.17219453,  0.00466892],\n",
       "        [ 0.05757026, -0.06966183,  0.05437609, ...,  0.02843646,\n",
       "         -0.13822882,  0.15884648],\n",
       "        ...,\n",
       "        [ 0.04546704, -0.14983822, -0.03850035, ..., -0.09059834,\n",
       "          0.07199147, -0.13013645],\n",
       "        [-0.08430635, -0.1494988 , -0.0002246 , ..., -0.12090846,\n",
       "         -0.08807783, -0.05891898],\n",
       "        [ 0.04508739,  0.01983929,  0.08465295, ...,  0.15983072,\n",
       "          0.08506944,  0.02832756]], dtype=float32),\n",
       " array([[ 0.06183122,  0.12751584, -0.11076111, ..., -0.20135279,\n",
       "          0.11485837, -0.13330798],\n",
       "        [-0.0600277 , -0.01465263,  0.00606347, ..., -0.11749102,\n",
       "         -0.1300864 ,  0.08328177],\n",
       "        [-0.15366058,  0.09647115, -0.07856856, ...,  0.19901244,\n",
       "          0.16851747, -0.07712963],\n",
       "        ...,\n",
       "        [ 0.0549686 ,  0.05816323,  0.04843825, ...,  0.1166102 ,\n",
       "          0.00093908, -0.01130912],\n",
       "        [-0.02912655,  0.02805243, -0.03796858, ..., -0.00469503,\n",
       "          0.10201252, -0.06861302],\n",
       "        [-0.02846789, -0.1307726 , -0.02372224, ..., -0.05327768,\n",
       "          0.12150507, -0.07999778]], dtype=float32),\n",
       " array([-0.03097275, -0.01988723,  0.02822223, -0.01973298, -0.0175052 ,\n",
       "        -0.01912933, -0.02114986, -0.01263704, -0.00989203, -0.02234383,\n",
       "         0.02900969,  0.01224045,  0.0041654 , -0.01259406, -0.00380004,\n",
       "        -0.01896351, -0.01605492, -0.01303953, -0.00812021,  0.00028671,\n",
       "        -0.02276785, -0.04328249,  0.02859359,  0.00368486,  0.00279971,\n",
       "         0.02036086, -0.00704197,  0.00414771,  0.00099542, -0.02032862,\n",
       "         0.01208829, -0.00335598, -0.01992607, -0.01922829, -0.01640137,\n",
       "        -0.02347546,  0.01288608, -0.01165096, -0.01679767, -0.01636131,\n",
       "        -0.0215641 ,  0.01239397, -0.00147381,  0.00769213,  0.00523855,\n",
       "        -0.0134008 ,  0.04820227, -0.01227328, -0.03872716, -0.02948575,\n",
       "         0.01576253,  0.00460276, -0.02189066, -0.01963869, -0.01661536,\n",
       "        -0.00037242, -0.01541901, -0.03296852,  0.0234386 ,  0.04804369,\n",
       "         0.01075107, -0.01027399, -0.02702984, -0.02329441,  0.02120639,\n",
       "        -0.03214328,  0.00199519,  0.00453923, -0.03182351,  0.02844119,\n",
       "        -0.03806539, -0.02079476,  0.007285  ,  0.00511805,  0.0504983 ,\n",
       "         0.01038314,  0.00779415, -0.04128742, -0.00785114, -0.02130052,\n",
       "        -0.03423059, -0.01774615, -0.0095126 ,  0.01299737, -0.03731911,\n",
       "        -0.01384917,  0.02033708,  0.01897239,  0.05370854,  0.00835567,\n",
       "        -0.01513515, -0.0163614 ,  0.04668282, -0.01074411, -0.02154732,\n",
       "         0.00976624, -0.00708386,  0.01007277,  0.00702807, -0.01239747,\n",
       "         0.01102569,  0.00974916, -0.00807071, -0.00023576,  0.05058313,\n",
       "        -0.00449179, -0.01652901, -0.00588809,  0.01103542,  0.01225515,\n",
       "         0.00448022, -0.00790789,  0.00868652, -0.02463862,  0.06882272,\n",
       "         0.03176934,  0.06973294, -0.01776015, -0.00719948,  0.00109745,\n",
       "        -0.03751932,  0.01346389,  0.00937508, -0.00180475, -0.00657173,\n",
       "        -0.04724842,  0.01986987, -0.00059229], dtype=float32),\n",
       " array([[-0.04955288],\n",
       "        [ 0.0066647 ],\n",
       "        [-0.19734786],\n",
       "        [-0.16214031],\n",
       "        [-0.18928833],\n",
       "        [ 0.49829954],\n",
       "        [ 0.0016064 ],\n",
       "        [ 0.16900432],\n",
       "        [-0.16291757],\n",
       "        [ 0.4333671 ],\n",
       "        [-0.21133353],\n",
       "        [-0.0084857 ],\n",
       "        [-0.24355295],\n",
       "        [-0.02976641],\n",
       "        [-0.11210234],\n",
       "        [ 0.07162487],\n",
       "        [-0.15741602],\n",
       "        [ 0.18736874],\n",
       "        [-0.04963159],\n",
       "        [-0.04069978],\n",
       "        [ 0.17009528],\n",
       "        [ 0.4666264 ],\n",
       "        [-0.0262115 ],\n",
       "        [ 0.14406353],\n",
       "        [ 0.07672605],\n",
       "        [ 0.898806  ],\n",
       "        [ 0.18058972],\n",
       "        [-0.01593718],\n",
       "        [-0.10237144],\n",
       "        [ 0.02602665],\n",
       "        [ 0.17696594],\n",
       "        [ 0.1646146 ],\n",
       "        [ 0.20726398],\n",
       "        [-0.07801601],\n",
       "        [ 0.13993078],\n",
       "        [ 0.03566369],\n",
       "        [ 0.50121564],\n",
       "        [-0.10296021],\n",
       "        [ 0.26867056],\n",
       "        [ 0.04269573],\n",
       "        [ 0.12231603],\n",
       "        [ 0.13715641],\n",
       "        [ 0.18433242],\n",
       "        [ 0.14480068],\n",
       "        [-0.70141673],\n",
       "        [-0.13407394],\n",
       "        [-0.25537282],\n",
       "        [ 0.11073789],\n",
       "        [-0.41978824],\n",
       "        [-0.06505606],\n",
       "        [-0.05554704],\n",
       "        [ 0.3302212 ],\n",
       "        [-0.20047824],\n",
       "        [-0.15494765],\n",
       "        [-0.09497499],\n",
       "        [-0.18063524],\n",
       "        [ 0.51034755],\n",
       "        [ 0.10375878],\n",
       "        [-0.7807794 ],\n",
       "        [-0.04645739],\n",
       "        [-0.07649034],\n",
       "        [ 0.8645062 ],\n",
       "        [ 0.6130133 ],\n",
       "        [-0.04260036],\n",
       "        [-0.10926919],\n",
       "        [-0.11038198],\n",
       "        [ 0.18387261],\n",
       "        [-0.3524364 ],\n",
       "        [-0.0198682 ],\n",
       "        [ 0.12300418],\n",
       "        [-0.36676076],\n",
       "        [-0.0126186 ],\n",
       "        [-0.19545138],\n",
       "        [ 0.10301719],\n",
       "        [-0.24407832],\n",
       "        [ 0.2092902 ],\n",
       "        [ 0.20431842],\n",
       "        [ 0.00490573],\n",
       "        [ 0.19776914],\n",
       "        [-0.00239563],\n",
       "        [ 0.15971571],\n",
       "        [-0.10714095],\n",
       "        [ 0.03302245],\n",
       "        [-0.17317252],\n",
       "        [ 0.26605672],\n",
       "        [ 0.12342345],\n",
       "        [-0.09389375],\n",
       "        [-0.04549689],\n",
       "        [-0.2820211 ],\n",
       "        [-0.19507559],\n",
       "        [-0.4872429 ],\n",
       "        [-0.02438579],\n",
       "        [-0.11970598],\n",
       "        [ 0.04478997],\n",
       "        [ 0.46090832],\n",
       "        [-0.19323257],\n",
       "        [ 0.23364688],\n",
       "        [-0.40691665],\n",
       "        [ 0.33364078],\n",
       "        [ 0.01026664],\n",
       "        [-0.12754354],\n",
       "        [ 0.02409257],\n",
       "        [-0.1090928 ],\n",
       "        [ 0.19220908],\n",
       "        [-0.23178855],\n",
       "        [-0.19604798],\n",
       "        [ 0.16587184],\n",
       "        [ 0.08925248],\n",
       "        [-0.11184733],\n",
       "        [-0.1851227 ],\n",
       "        [ 0.22389524],\n",
       "        [ 0.19298458],\n",
       "        [ 0.10531185],\n",
       "        [-0.01607507],\n",
       "        [-0.15788452],\n",
       "        [-0.09077937],\n",
       "        [ 0.07963409],\n",
       "        [-0.23336902],\n",
       "        [ 0.1365974 ],\n",
       "        [-0.05524895],\n",
       "        [-0.3021774 ],\n",
       "        [-0.20384745],\n",
       "        [ 0.0761695 ],\n",
       "        [-0.02819843],\n",
       "        [-0.16728799],\n",
       "        [ 0.3549684 ],\n",
       "        [-0.2185985 ],\n",
       "        [ 0.00826691]], dtype=float32),\n",
       " array([-0.21783036], dtype=float32)]"
      ]
     },
     "execution_count": 14,
     "metadata": {},
     "output_type": "execute_result"
    }
   ],
   "source": [
    "model.get_weights()"
   ]
  },
  {
   "cell_type": "code",
   "execution_count": 15,
   "id": "d8b28aa0",
   "metadata": {},
   "outputs": [],
   "source": [
    "# Step 2: Helper Functions\n",
    "# Function to decode reviews\n",
    "\n",
    "def decode_review(encoded_review):\n",
    "    return ' '.join([reverse_word_index.get(i - 3, '?') for i in encoded_review])\n",
    "\n",
    "# Function to process user input\n",
    "\n",
    "def preprocess_text(text, maxlen=500, vocab_size=10000):\n",
    "    words = text.lower().split()\n",
    "    # Map words -> index (use 2 if not in vocab)\n",
    "    encoded_review = [word_index.get(w, 2) for w in words if word_index.get(w, 2) < vocab_size]\n",
    "    # Shift indices by +3 only ONCE (IMDB convention)\n",
    "    encoded_review = [i + 3 for i in encoded_review]\n",
    "    # Add \"start\" token = 1\n",
    "    encoded_review = [1] + encoded_review\n",
    "    # Pad/truncate\n",
    "    padded_review = sequence.pad_sequences([encoded_review], maxlen=maxlen)\n",
    "    return padded_review"
   ]
  },
  {
   "cell_type": "code",
   "execution_count": 16,
   "metadata": {},
   "outputs": [],
   "source": [
    "### Prediction function\n",
    "\n",
    "def predict_sentiment(review):\n",
    "    preprocessed_input = preprocess_text(review)\n",
    "    prediction = model.predict(preprocessed_input)\n",
    "    sentiment = 'Positive' if prediction[0][0]> 0.5 else 'Negative'\n",
    "    return sentiment, prediction[0][0]"
   ]
  },
  {
   "cell_type": "code",
   "execution_count": 34,
   "id": "e6b76dd9",
   "metadata": {},
   "outputs": [
    {
     "name": "stdout",
     "output_type": "stream",
     "text": [
      "\u001b[1m1/1\u001b[0m \u001b[32m━━━━━━━━━━━━━━━━━━━━\u001b[0m\u001b[37m\u001b[0m \u001b[1m0s\u001b[0m 99ms/step\n",
      "Review:This movie was great and The acting was great and the plot was thrilling\n",
      "Sentiment:Positive\n",
      "Prediction score:0.7891339659690857\n"
     ]
    }
   ],
   "source": [
    "# Step 4: User Input and prediction\n",
    "\n",
    "# Example reveiw for prediction\n",
    "example_review = \"This movie was great and The acting was great and the plot was thrilling\"\n",
    "\n",
    "sentiment, score = predict_sentiment(example_review)\n",
    "\n",
    "print(f'Review:{example_review}')\n",
    "print(f'Sentiment:{sentiment}')\n",
    "print(f'Prediction score:{score}')\n"
   ]
  },
  {
   "cell_type": "code",
   "execution_count": 30,
   "id": "097f07b2",
   "metadata": {},
   "outputs": [
    {
     "name": "stdout",
     "output_type": "stream",
     "text": [
      "good 49\n",
      "fantastic 774\n",
      "nice 324\n"
     ]
    }
   ],
   "source": [
    "for w in [\"good\", \"fantastic\", \"nice\"]:\n",
    "    print(w, word_index.get(w))\n"
   ]
  },
  {
   "cell_type": "code",
   "execution_count": 31,
   "id": "d335c360",
   "metadata": {},
   "outputs": [
    {
     "name": "stdout",
     "output_type": "stream",
     "text": [
      "\u001b[1m1/1\u001b[0m \u001b[32m━━━━━━━━━━━━━━━━━━━━\u001b[0m\u001b[37m\u001b[0m \u001b[1m0s\u001b[0m 105ms/step\n",
      "this movie was fantastic -> Negative (0.4780)\n",
      "\u001b[1m1/1\u001b[0m \u001b[32m━━━━━━━━━━━━━━━━━━━━\u001b[0m\u001b[37m\u001b[0m \u001b[1m0s\u001b[0m 97ms/step\n",
      "this movie was nice -> Positive (0.5373)\n",
      "\u001b[1m1/1\u001b[0m \u001b[32m━━━━━━━━━━━━━━━━━━━━\u001b[0m\u001b[37m\u001b[0m \u001b[1m0s\u001b[0m 95ms/step\n",
      "this movie was good -> Positive (0.6990)\n",
      "\u001b[1m1/1\u001b[0m \u001b[32m━━━━━━━━━━━━━━━━━━━━\u001b[0m\u001b[37m\u001b[0m \u001b[1m0s\u001b[0m 113ms/step\n",
      "this movie was terrible -> Negative (0.0364)\n",
      "\u001b[1m1/1\u001b[0m \u001b[32m━━━━━━━━━━━━━━━━━━━━\u001b[0m\u001b[37m\u001b[0m \u001b[1m0s\u001b[0m 96ms/step\n",
      "this was the worst movie -> Negative (0.0077)\n"
     ]
    }
   ],
   "source": [
    "tests = [\n",
    "    \"this movie was fantastic\",\n",
    "    \"this movie was nice\",\n",
    "    \"this movie was good\",\n",
    "    \"this movie was terrible\",\n",
    "    \"this was the worst movie\"\n",
    "]\n",
    "\n",
    "for t in tests:\n",
    "    s, p = predict_sentiment(t)\n",
    "    print(f\"{t} -> {s} ({p:.4f})\")"
   ]
  },
  {
   "cell_type": "code",
   "execution_count": 20,
   "id": "3d64cde7",
   "metadata": {},
   "outputs": [
    {
     "name": "stdout",
     "output_type": "stream",
     "text": [
      "embedding (10000, 128)\n",
      "simple_rnn (128, 128)\n",
      "dense (128, 1)\n"
     ]
    }
   ],
   "source": [
    "for layer in model.layers:\n",
    "    print(layer.name, layer.get_weights()[0].shape if layer.get_weights() else \"no weights\")\n"
   ]
  },
  {
   "cell_type": "code",
   "execution_count": null,
   "id": "84902014",
   "metadata": {},
   "outputs": [],
   "source": []
  }
 ],
 "metadata": {
  "kernelspec": {
   "display_name": "Python 3",
   "language": "python",
   "name": "python3"
  },
  "language_info": {
   "codemirror_mode": {
    "name": "ipython",
    "version": 3
   },
   "file_extension": ".py",
   "mimetype": "text/x-python",
   "name": "python",
   "nbconvert_exporter": "python",
   "pygments_lexer": "ipython3",
   "version": "3.13.7"
  }
 },
 "nbformat": 4,
 "nbformat_minor": 5
}
